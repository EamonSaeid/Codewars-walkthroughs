{
 "cells": [
  {
   "cell_type": "markdown",
   "metadata": {},
   "source": [
    "<center><b><h1>Weight for weight</h1></B></center>"
   ]
  },
  {
   "cell_type": "markdown",
   "metadata": {},
   "source": [
    "Available from:  https://www.codewars.com/kata/55c6126177c9441a570000cc/python"
   ]
  },
  {
   "cell_type": "markdown",
   "metadata": {},
   "source": [
    "<b>DESCRIPTION:</b><br>\n",
    "My friend John and I are members of the \"Fat to Fit Club (FFC)\". John is worried because each month a list with the weights of members is published and each month he is the last on the list which means he is the heaviest.\n",
    "\n",
    "I am the one who establishes the list so I told him: \"Don't worry any more, I will modify the order of the list\". It was decided to attribute a \"weight\" to numbers. The weight of a number will be from now on the sum of its digits.\n",
    "\n",
    "For example 99 will have \"weight\" 18, 100 will have \"weight\" 1 so in the list 100 will come before 99.\n",
    "\n",
    "Given a string with the weights of FFC members in normal order can you give this string ordered by \"weights\" of these numbers?\n",
    "\n",
    "<b>Example:</b>\n",
    "<br><br>\n",
    "\"56 65 74 100 99 68 86 180 90\" \n",
    "<t>\n",
    "ordered by numbers weights becomes: \n",
    "<br>\n",
    "\"100 180 90 56 65 74 68 86 99\"<br><br><br>\n",
    "When two numbers have the same \"weight\", let us class them as if they were strings (alphabetical ordering) and not numbers:\n",
    "\n",
    "180 is before 90 since, having the same \"weight\" (9), it comes before as a string.\n",
    "\n",
    "All numbers in the list are positive numbers and the list can be empty.\n",
    "\n",
    "Notes<br>\n",
    "it may happen that the input string have leading, trailing whitespaces and more than a unique whitespace between two consecutive numbers\n",
    "<br>For C: The result is freed."
   ]
  },
  {
   "cell_type": "markdown",
   "metadata": {},
   "source": [
    "<b>My solution:</b>\n"
   ]
  },
  {
   "cell_type": "code",
   "execution_count": 3,
   "metadata": {},
   "outputs": [],
   "source": [
    "string=\"  2000 10003 1234000 44444444 9999 11 11 22  123\""
   ]
  },
  {
   "cell_type": "code",
   "execution_count": 4,
   "metadata": {},
   "outputs": [],
   "source": [
    "def order_weight(strng):\n",
    "\n",
    "    #The string can have trailing whitespaces and isn't guaranteed to have only single whitespaces inbetween\n",
    "    #Split by whitespaces, remove all whitespaces and add strings to the list to clean this up\n",
    "    uncleanstring=strng.split(' ')\n",
    "    numberlist=list(filter(None,uncleanstring))\n",
    "\n",
    "    #Initialising list for weights and variable for output string\n",
    "    weights=[]\n",
    "    output=\"\"\n",
    "\n",
    "    # Loop through each individual item in the list, then loop through each number in each item, convert \n",
    "    # it to an integer and add it to the weight for each one.\n",
    "    for number in numberlist:\n",
    "        weight=0\n",
    "        for i in range(len(number)):\n",
    "            weight+=int(number[i])\n",
    "        \n",
    "        # Append this weight and the original number to a list of lists. \n",
    "        # Keep the original number as a string to help with sorting alphabetically later.\n",
    "\n",
    "        weights.append([weight, number])\n",
    "\n",
    "    # Sort values according firstly to the weight calculated, which is the first value in each substring\n",
    "    # Then sort the numbers as strings - This achieves alphabetical ordering\n",
    "\n",
    "    listwithweights=sorted(weights, key=lambda x:(x[0],x[1]))\n",
    "\n",
    "    #Append the final numbers in order to a string and remove final whitespace\n",
    "    for i in listwithweights:\n",
    "        output+=i[1]+\" \"\n",
    "\n",
    "    return output[:-1]"
   ]
  },
  {
   "cell_type": "code",
   "execution_count": 5,
   "metadata": {},
   "outputs": [],
   "source": [
    "def order_weight(strng):\n",
    "    uncleanstring=strng.split(' ')\n",
    "    numberlist=list(filter(None,uncleanstring))\n",
    "    weights=[]\n",
    "    output=\"\"\n",
    "    for number in numberlist:\n",
    "        weight=0\n",
    "        for i in range(len(number)):\n",
    "            weight+=int(number[i])\n",
    "        weights.append([weight, number])\n",
    "    listwithweights=sorted(weights, key=lambda x:(x[0],x[1]))\n",
    "    for i in listwithweights:\n",
    "        output+=i[1]+\" \"\n",
    "    return output[:-1]"
   ]
  },
  {
   "cell_type": "code",
   "execution_count": 6,
   "metadata": {},
   "outputs": [
    {
     "data": {
      "text/plain": [
       "'11 11 2000 10003 22 123 1234000 44444444 9999'"
      ]
     },
     "execution_count": 6,
     "metadata": {},
     "output_type": "execute_result"
    }
   ],
   "source": [
    "order_weight(string)"
   ]
  },
  {
   "cell_type": "markdown",
   "metadata": {},
   "source": [
    "<b>Best Answer:</b>"
   ]
  },
  {
   "cell_type": "code",
   "execution_count": 10,
   "metadata": {},
   "outputs": [],
   "source": [
    "def order_weight(_str):\n",
    "    return ' '.join(sorted(sorted(_str.split(' ')), key=lambda x: sum(int(c) for c in x)))"
   ]
  },
  {
   "cell_type": "markdown",
   "metadata": {},
   "source": [
    "Sorting the string in a list gives alphabetical sorting"
   ]
  },
  {
   "cell_type": "code",
   "execution_count": 54,
   "metadata": {},
   "outputs": [
    {
     "data": {
      "text/plain": [
       "'   10003 11 11 123 1234000 2000 22 44444444 9999'"
      ]
     },
     "execution_count": 54,
     "metadata": {},
     "output_type": "execute_result"
    }
   ],
   "source": [
    "\" \".join(sorted(string.split(' ')))"
   ]
  },
  {
   "cell_type": "markdown",
   "metadata": {},
   "source": [
    "Effectively looping through the individual elements of each string, converting to an integer and summing them up all in one line\n",
    "<br>\n",
    "In future I need to calculate within a lambda function rather than a loop.\n",
    "<br><br>\n",
    "This solution avoided the use of extra lists and variables</br>"
   ]
  },
  {
   "cell_type": "code",
   "execution_count": 55,
   "metadata": {},
   "outputs": [
    {
     "data": {
      "text/plain": [
       "['',\n",
       " '',\n",
       " '',\n",
       " '2000',\n",
       " '11',\n",
       " '11',\n",
       " '10003',\n",
       " '22',\n",
       " '123',\n",
       " '1234000',\n",
       " '44444444',\n",
       " '9999']"
      ]
     },
     "execution_count": 55,
     "metadata": {},
     "output_type": "execute_result"
    }
   ],
   "source": [
    "sorted(string.split(\" \"), key=lambda x: sum(int(c) for c in x))"
   ]
  },
  {
   "cell_type": "markdown",
   "metadata": {},
   "source": [
    "Cleaning the string:<n>\n",
    "The \" \".join is more elegant than iterating through the list and adding to a string[:-1]</n>"
   ]
  },
  {
   "cell_type": "code",
   "execution_count": 7,
   "metadata": {},
   "outputs": [
    {
     "data": {
      "text/plain": [
       "'  2000 10003 1234000 44444444 9999 11 11 22  123'"
      ]
     },
     "execution_count": 7,
     "metadata": {},
     "output_type": "execute_result"
    }
   ],
   "source": [
    "\" \".join(string.split(\" \"))"
   ]
  },
  {
   "cell_type": "markdown",
   "metadata": {},
   "source": [
    "It is worth noting the more elegant answer doesn't seem to fit the specification provided; The function fails to remove excess whitespaces"
   ]
  },
  {
   "cell_type": "code",
   "execution_count": 8,
   "metadata": {},
   "outputs": [],
   "source": [
    "def order_weight(_str):\n",
    "    return ' '.join(sorted(sorted(_str.split(' ')), key=lambda x: sum(int(c) for c in x)))"
   ]
  },
  {
   "cell_type": "code",
   "execution_count": 11,
   "metadata": {},
   "outputs": [
    {
     "data": {
      "text/plain": [
       "'   11 11 2000 10003 22 123 1234000 44444444 9999'"
      ]
     },
     "execution_count": 11,
     "metadata": {},
     "output_type": "execute_result"
    }
   ],
   "source": [
    "order_weight(string)"
   ]
  },
  {
   "cell_type": "code",
   "execution_count": null,
   "metadata": {},
   "outputs": [],
   "source": []
  }
 ],
 "metadata": {
  "kernelspec": {
   "display_name": "Python 3.9.12 ('base')",
   "language": "python",
   "name": "python3"
  },
  "language_info": {
   "codemirror_mode": {
    "name": "ipython",
    "version": 3
   },
   "file_extension": ".py",
   "mimetype": "text/x-python",
   "name": "python",
   "nbconvert_exporter": "python",
   "pygments_lexer": "ipython3",
   "version": "3.9.12"
  },
  "orig_nbformat": 4,
  "vscode": {
   "interpreter": {
    "hash": "50190fa22770449b423ef1e5f22e9e4ae491ba3d613017cab998804fa19ca93f"
   }
  }
 },
 "nbformat": 4,
 "nbformat_minor": 2
}
