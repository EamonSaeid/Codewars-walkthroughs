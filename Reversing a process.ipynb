{
 "cells": [
  {
   "cell_type": "markdown",
   "metadata": {},
   "source": [
    "<center><b><h1>Reversing a process</h1></B></center>"
   ]
  },
  {
   "cell_type": "markdown",
   "metadata": {},
   "source": [
    "Available from:  https://www.codewars.com/kata/5dad6e5264e25a001918a1fc/train/python"
   ]
  },
  {
   "cell_type": "markdown",
   "metadata": {},
   "source": [
    "<b>DESCRIPTION:</b><br>\n",
    "Suppose we know the process by which a string s was encoded to a string r (see explanation below). The aim of the kata is to decode this string r to get back the original string s.\n",
    "\n",
    "Explanation of the encoding process:<br><br>\n",
    "input: a string s composed of lowercase letters from \"a\" to \"z\", and a positive integer num<br>\n",
    "we know there is a correspondence between abcde...uvwxyzand 0, 1, 2 ..., 23, 24, 25 : 0 <-> a, 1 <-> b ...<br>\n",
    "if c is a character of s whose corresponding number is x, apply to x the function f: x-> f(x) = num * x % 26, then find ch the corresponding character of f(x)<br>\n",
    "Accumulate all these ch in a string r<br>\n",
    "concatenate num and r and return the result\n",
    "\n",
    "<b>Example:</b>\n",
    "\n",
    "encode(\"mer\", 6015)  -->  \"6015ekx\"<br><br>\n",
    "\n",
    "m --> 12,   12 * 6015 % 26 = 4,    4  --> e<br>\n",
    "e --> 4,     4 * 6015 % 26 = 10,   10 --> k<br>\n",
    "r --> 17,   17 * 6015 % 26 = 23,   23 --> x<br>\n",
    "\n",
    "So we get \"ekx\", hence the output is \"6015ekx\"<br><br>\n",
    "Task<br>\n",
    "A string s was encoded to string r by the above process. complete the function to get back s whenever it is possible.\n",
    "<br><br>\n",
    "Indeed it can happen that the decoding is impossible for strings composed of whatever letters from \"a\" to \"z\" when positive integer num has not been correctly chosen. In that case return \"Impossible to decode\".\n",
    "\n",
    "Examples<br><br>\n",
    "decode \"6015ekx\" -> \"mer\"<br>\n",
    "decode \"5057aan\" -> \"Impossible to decode\""
   ]
  },
  {
   "cell_type": "markdown",
   "metadata": {},
   "source": [
    "<b>My solution:</b>\n"
   ]
  },
  {
   "cell_type": "markdown",
   "metadata": {},
   "source": [
    "Import Regex to process the initial string into letters and numbers<br>\n",
    "Import string to import the alphabet as a list for indexing<br>\n",
    "Split the string and produce a list of indexes from the input letters<br>\n",
    "Extract the number and label as \"b\""
   ]
  },
  {
   "cell_type": "code",
   "execution_count": 1,
   "metadata": {},
   "outputs": [],
   "source": [
    "import re\n",
    "import string\n",
    "translations=[]\n",
    "alphabet = list(string.ascii_lowercase)\n",
    "r=\"1273409kuqhkoynvvknsdwljantzkpnmfgf\"\n",
    "b=int(re.split('(\\d+)',r)[1:][0])\n",
    "c=str(re.split('(\\d+)',r)[1:][1])\n",
    "indexes=[alphabet.index(x) for x in c]"
   ]
  },
  {
   "cell_type": "markdown",
   "metadata": {},
   "source": [
    "Loop through the possible indexes for letters in the alphabet and test if an index between 0 and 26 is available<br>\n",
    "If there is only one solution, the list of final outputs will be the same as the list of inputs<br>\n",
    "If there are more or less than the number of inputs, there is no certain solution"
   ]
  },
  {
   "cell_type": "code",
   "execution_count": 2,
   "metadata": {},
   "outputs": [
    {
     "data": {
      "text/plain": [
       "{0: 0,\n",
       " 7: 1,\n",
       " 14: 2,\n",
       " 21: 3,\n",
       " 9: 5,\n",
       " 16: 6,\n",
       " 11: 9,\n",
       " 18: 10,\n",
       " 25: 11,\n",
       " 6: 12,\n",
       " 13: 13,\n",
       " 20: 14,\n",
       " 15: 17,\n",
       " 22: 18,\n",
       " 3: 19,\n",
       " 10: 20,\n",
       " 24: 22,\n",
       " 5: 23,\n",
       " 12: 24,\n",
       " 19: 25}"
      ]
     },
     "execution_count": 2,
     "metadata": {},
     "output_type": "execute_result"
    }
   ],
   "source": [
    "translations={}\n",
    "for x in range(0,26):\n",
    "    answer=(b*x)%26\n",
    "    for input in indexes:\n",
    "        if input==answer:\n",
    "            translations[input]=x\n",
    "translations"
   ]
  },
  {
   "cell_type": "markdown",
   "metadata": {},
   "source": [
    "Apply the translations discovered to the original indexes"
   ]
  },
  {
   "cell_type": "code",
   "execution_count": 3,
   "metadata": {},
   "outputs": [
    {
     "data": {
      "text/plain": [
       "'1273409uogbucwnddunktsjfanzlurnyxmx'"
      ]
     },
     "execution_count": 3,
     "metadata": {},
     "output_type": "execute_result"
    }
   ],
   "source": [
    "translated=[alphabet[translations[x]] for x in indexes]\n",
    "result=str(b)+\"\".join(translated)\n",
    "result\n"
   ]
  },
  {
   "cell_type": "code",
   "execution_count": 4,
   "metadata": {},
   "outputs": [],
   "source": [
    "def decode(r):\n",
    "    alphabet = list(string.ascii_lowercase)\n",
    "    b=int(re.split('(\\d+)',r)[1:][0])\n",
    "    c=str(re.split('(\\d+)',r)[1:][1])\n",
    "    indexes=[alphabet.index(x) for x in c]\n",
    "    translations={}\n",
    "    for x in range(0,26):\n",
    "        answer=(b*x)%26\n",
    "        for input in indexes:\n",
    "            if input==answer:\n",
    "                translations[input]=x\n",
    "    translated=[alphabet[translations[x]] for x in indexes]\n",
    "    result=\"\".join(translated)\n",
    "    if len(translations)!=len(set(indexes)):\n",
    "        return \"Impossible to decode\"\n",
    "    else:\n",
    "        return result"
   ]
  },
  {
   "cell_type": "markdown",
   "metadata": {},
   "source": [
    "Testing the length of the dictionary to determine whether a translation is possible has yielded poor results - This is because a dictionary by definition does not allow duplicate key values.<br><br>  \n",
    "By copying the code and appending the details to a list (And further then converting this list to a set to remove duplicates) shows that certain input letters have multiple output solutions, see for the example below, input 14 can give the output 3 or 16."
   ]
  },
  {
   "cell_type": "code",
   "execution_count": 5,
   "metadata": {},
   "outputs": [
    {
     "data": {
      "text/plain": [
       "{(0, 0),\n",
       " (0, 13),\n",
       " (2, 6),\n",
       " (2, 19),\n",
       " (8, 11),\n",
       " (8, 24),\n",
       " (10, 4),\n",
       " (10, 17),\n",
       " (12, 10),\n",
       " (12, 23),\n",
       " (14, 3),\n",
       " (14, 16),\n",
       " (16, 9),\n",
       " (16, 22),\n",
       " (20, 8),\n",
       " (20, 21),\n",
       " (22, 1),\n",
       " (22, 14),\n",
       " (24, 7),\n",
       " (24, 20)}"
      ]
     },
     "execution_count": 5,
     "metadata": {},
     "output_type": "execute_result"
    }
   ],
   "source": [
    "translations=[]\n",
    "alphabet = list(string.ascii_lowercase)\n",
    "r=\"761328qockcouoqmoayqwmkkic\"\n",
    "b=int(re.split('(\\d+)',r)[1:][0])\n",
    "c=str(re.split('(\\d+)',r)[1:][1])\n",
    "indexes=[alphabet.index(x) for x in c]\n",
    "translations=[]\n",
    "for x in range(0,26):\n",
    "    answer=(b*x)%26\n",
    "    for input in indexes:\n",
    "        if input==answer:\n",
    "            translations.append((input, x))\n",
    "set(translations)"
   ]
  },
  {
   "cell_type": "markdown",
   "metadata": {},
   "source": [
    "This short snippet of code loops through the list for each individual element, comparing the first terms and second terms. The code then determines that if both the first terms are the same yet the second terms differ, then there are multiple possible solutions for an individual letter, and hence this challenge is impossible to decode."
   ]
  },
  {
   "cell_type": "code",
   "execution_count": 6,
   "metadata": {},
   "outputs": [
    {
     "name": "stdout",
     "output_type": "stream",
     "text": [
      "Impossible to decode\n",
      "Impossible to decode\n",
      "Impossible to decode\n",
      "Impossible to decode\n",
      "Impossible to decode\n",
      "Impossible to decode\n",
      "Impossible to decode\n",
      "Impossible to decode\n",
      "Impossible to decode\n",
      "Impossible to decode\n",
      "Impossible to decode\n",
      "Impossible to decode\n",
      "Impossible to decode\n",
      "Impossible to decode\n",
      "Impossible to decode\n",
      "Impossible to decode\n",
      "Impossible to decode\n",
      "Impossible to decode\n",
      "Impossible to decode\n",
      "Impossible to decode\n"
     ]
    }
   ],
   "source": [
    "for i in set(translations):\n",
    "    for i2 in set(translations):\n",
    "        if i[0]==i2[0] and i[1]!=i2[1]:\n",
    "            print(\"Impossible to decode\")\n",
    "            break"
   ]
  },
  {
   "cell_type": "markdown",
   "metadata": {},
   "source": [
    "As it stands, I can't think of a way to evaluate this without producing a list separately to the dictionary that I am using, so unfortunately I'm going to have to append to both the dictionary and the list and wait for the other users solutions to put me out of my misery. I have converted the list to a set in the loop to avoid it looping through multiple duplicate results."
   ]
  },
  {
   "cell_type": "code",
   "execution_count": 7,
   "metadata": {},
   "outputs": [],
   "source": [
    "def decode(r):\n",
    "    alphabet = list(string.ascii_lowercase)\n",
    "    b=int(re.split('(\\d+)',r)[1:][0])\n",
    "    c=str(re.split('(\\d+)',r)[1:][1])\n",
    "    indexes=[alphabet.index(x) for x in c]\n",
    "    translations={}\n",
    "    translations1=[]\n",
    "    for x in range(0,26):\n",
    "        answer=(b*x)%26\n",
    "        for input in indexes:\n",
    "            if input==answer:\n",
    "                translations[input]=x\n",
    "                translations1.append((input, x))\n",
    "    for i in set(translations1):\n",
    "        for i2 in set(translations1):\n",
    "            if i[0]==i2[0] and i[1]!=i2[1]:\n",
    "                return \"Impossible to decode\"\n",
    "\n",
    "    translated=[alphabet[translations[x]] for x in indexes]\n",
    "    result=\"\".join(translated)\n",
    "    return result"
   ]
  },
  {
   "cell_type": "markdown",
   "metadata": {},
   "source": [
    "<b>Best Answer:</b>"
   ]
  },
  {
   "cell_type": "code",
   "execution_count": 8,
   "metadata": {},
   "outputs": [],
   "source": [
    "from string import ascii_lowercase as aLow\n",
    "\n",
    "def decode(r):\n",
    "    i    = next(i for i,c in enumerate(r) if c.isalpha())\n",
    "    n,r  = int(r[:i]), r[i:]\n",
    "    maps = {chr(97 + n*i % 26): c for i,c in enumerate(aLow)}\n",
    "    return \"Impossible to decode\" if len(maps)!=26 else ''.join(maps[c] for c in r)"
   ]
  },
  {
   "cell_type": "markdown",
   "metadata": {},
   "source": [
    "The first line identifies i, which is the index of the first letter in the string."
   ]
  },
  {
   "cell_type": "code",
   "execution_count": 9,
   "metadata": {},
   "outputs": [],
   "source": [
    "i    = next(i for i,c in enumerate(r) if c.isalpha())"
   ]
  },
  {
   "cell_type": "markdown",
   "metadata": {},
   "source": [
    "The enumerate function returns an iterator which indexes all of the items in the string. The \"if\" statement removes all of the numbers from the string. Below I have rewritten the list comprehension in a way which is more readable for me. As you can see from the ouput, an index is produced for every character in the string and the numbers are excluded. I have included the condition to show i between 8 and 12 just to reduce the output length to improve readability. "
   ]
  },
  {
   "cell_type": "code",
   "execution_count": 22,
   "metadata": {},
   "outputs": [
    {
     "name": "stdout",
     "output_type": "stream",
     "text": [
      "8 q\n",
      "9 m\n",
      "10 o\n",
      "11 a\n",
      "12 y\n"
     ]
    }
   ],
   "source": [
    "for i, c in enumerate(r):\n",
    "    if c.isalpha() and 7<i<13:\n",
    "        i,c\n",
    "        print(i,c)\n",
    "    # (i for i,c in enumerate(r) if c.isalpha())"
   ]
  },
  {
   "cell_type": "markdown",
   "metadata": {},
   "source": [
    "The \"next\" function returns the next item in an interator. Once the enumerate function has been used, the next function helps us to identify the first index in the iterator. If enumerate produced a list, we would index using list[0], however it is an iterator."
   ]
  },
  {
   "cell_type": "code",
   "execution_count": 11,
   "metadata": {},
   "outputs": [
    {
     "name": "stdout",
     "output_type": "stream",
     "text": [
      "1\n"
     ]
    }
   ],
   "source": [
    "list=[1,2,3,4,5,6,7,8]\n",
    "iterator=iter(list)\n",
    "print(next(iterator))"
   ]
  },
  {
   "cell_type": "markdown",
   "metadata": {},
   "source": [
    "This effectively identifies the index of the first letter in the string, so that the string can be cleaned into the relevant number and letters without the use of regex."
   ]
  },
  {
   "cell_type": "code",
   "execution_count": 12,
   "metadata": {},
   "outputs": [
    {
     "name": "stdout",
     "output_type": "stream",
     "text": [
      "1273409\n",
      "kuqhkoynvvknsdwljantzkpnmfgf\n"
     ]
    }
   ],
   "source": [
    "r='1273409kuqhkoynvvknsdwljantzkpnmfgf'\n",
    "i    = next(i for i,c in enumerate(r) if c.isalpha())\n",
    "n,r  = int(r[:i]), r[i:]\n",
    "print(n)\n",
    "print(r)"
   ]
  },
  {
   "cell_type": "code",
   "execution_count": 13,
   "metadata": {},
   "outputs": [],
   "source": [
    "maps = {chr(97 + n*i % 26): c for i,c in enumerate(aLow)}"
   ]
  },
  {
   "cell_type": "markdown",
   "metadata": {},
   "source": [
    "This maps variable is a dictionary within which list comprehension is taking place. This user has used a similar method to me in the sense that he has iterated through all of the letters in the alphabet as shown below. I have included the \"if i<5\" part to reduce the output size for improved readability."
   ]
  },
  {
   "cell_type": "code",
   "execution_count": 14,
   "metadata": {},
   "outputs": [
    {
     "name": "stdout",
     "output_type": "stream",
     "text": [
      "0 a\n",
      "1 b\n",
      "2 c\n",
      "3 d\n",
      "4 e\n"
     ]
    }
   ],
   "source": [
    "for i,c in enumerate(aLow):\n",
    "    if i<5:\n",
    "        print(i,c)"
   ]
  },
  {
   "cell_type": "markdown",
   "metadata": {},
   "source": [
    "chr() converts a character to it's unicode value. 97 is the value of the first index in the alphabet, \"a\", hence why it is added within the bracket"
   ]
  },
  {
   "cell_type": "code",
   "execution_count": 15,
   "metadata": {},
   "outputs": [
    {
     "data": {
      "text/plain": [
       "'a'"
      ]
     },
     "execution_count": 15,
     "metadata": {},
     "output_type": "execute_result"
    }
   ],
   "source": [
    "chr(97)"
   ]
  },
  {
   "cell_type": "markdown",
   "metadata": {},
   "source": [
    "For each letter in the alphabet, a translation is produced, even if it is not in the original string. In my answer, items were only appended to the dictionary if the translated index was found in the input string. With the benefit of seeing this persons answer, I restricted myself when compared to the elegance of checking that the dictionary was 26 items long."
   ]
  },
  {
   "cell_type": "code",
   "execution_count": 16,
   "metadata": {},
   "outputs": [
    {
     "name": "stdout",
     "output_type": "stream",
     "text": [
      "a a\n",
      "b h\n",
      "c o\n",
      "d v\n",
      "e c\n"
     ]
    }
   ],
   "source": [
    "for i,c in enumerate(aLow):\n",
    "    if i<5:\n",
    "        a=chr(97 + n*i % 26)\n",
    "        print(c,a)"
   ]
  },
  {
   "cell_type": "markdown",
   "metadata": {},
   "source": [
    "Why does having a dictionary length not equal to 26 identify that there is no possible translation?"
   ]
  },
  {
   "cell_type": "code",
   "execution_count": 17,
   "metadata": {},
   "outputs": [],
   "source": [
    "def decode(r):\n",
    "    return \"Impossible to decode\" if len(maps)!=26 else ''.join(maps[c] for c in r)"
   ]
  },
  {
   "cell_type": "code",
   "execution_count": 18,
   "metadata": {},
   "outputs": [],
   "source": [
    "r='761328qockcouoqmoayqwmkkic'\n",
    "i    = next(i for i,c in enumerate(r) if c.isalpha())\n",
    "n,r  = int(r[:i]), r[i:]\n",
    "maps = {chr(97 + n*i % 26): c for i,c in enumerate(aLow)}"
   ]
  },
  {
   "cell_type": "code",
   "execution_count": 19,
   "metadata": {},
   "outputs": [
    {
     "name": "stdout",
     "output_type": "stream",
     "text": [
      "{'a': 'n', 'w': 'o', 's': 'p', 'o': 'q', 'k': 'r', 'g': 's', 'c': 't', 'y': 'u', 'u': 'v', 'q': 'w', 'm': 'x', 'i': 'y', 'e': 'z'}\n"
     ]
    }
   ],
   "source": [
    "print(maps)"
   ]
  },
  {
   "cell_type": "markdown",
   "metadata": {},
   "source": [
    "As you can see, there are no translations for any value below n in the alphabet for this example. This is because there are repeat values in the dictionary, meaning that an original solution is removed. Hence the search can be defined as successful if the dictionary length is exactly 26, as there is definitely no repeat translations. This would have been a much more elegant solution for my original issue."
   ]
  },
  {
   "cell_type": "markdown",
   "metadata": {},
   "source": [
    "Note below, the outputs follow a clear pattern which is why half of the dictionary repeats and is removed."
   ]
  },
  {
   "cell_type": "code",
   "execution_count": 20,
   "metadata": {},
   "outputs": [
    {
     "name": "stdout",
     "output_type": "stream",
     "text": [
      "0 0\n",
      "1 22\n",
      "2 18\n",
      "3 14\n",
      "4 10\n",
      "5 6\n",
      "6 2\n",
      "7 24\n",
      "8 20\n",
      "9 16\n",
      "10 12\n",
      "11 8\n",
      "12 4\n",
      "13 0\n",
      "14 22\n",
      "15 18\n",
      "16 14\n",
      "17 10\n",
      "18 6\n",
      "19 2\n",
      "20 24\n",
      "21 20\n",
      "22 16\n",
      "23 12\n",
      "24 8\n",
      "25 4\n"
     ]
    }
   ],
   "source": [
    "for i in range(26):\n",
    "    index=n*i%26\n",
    "    print(i,index)"
   ]
  }
 ],
 "metadata": {
  "kernelspec": {
   "display_name": "Python 3.9.12 ('base')",
   "language": "python",
   "name": "python3"
  },
  "language_info": {
   "codemirror_mode": {
    "name": "ipython",
    "version": 3
   },
   "file_extension": ".py",
   "mimetype": "text/x-python",
   "name": "python",
   "nbconvert_exporter": "python",
   "pygments_lexer": "ipython3",
   "version": "3.9.12"
  },
  "orig_nbformat": 4,
  "vscode": {
   "interpreter": {
    "hash": "50190fa22770449b423ef1e5f22e9e4ae491ba3d613017cab998804fa19ca93f"
   }
  }
 },
 "nbformat": 4,
 "nbformat_minor": 2
}
