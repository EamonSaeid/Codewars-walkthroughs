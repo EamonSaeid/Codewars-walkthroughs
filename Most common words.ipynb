{
 "cells": [
  {
   "cell_type": "markdown",
   "metadata": {},
   "source": [
    "<center><b><h1>Most frequently used words in a text</h1></B></center>"
   ]
  },
  {
   "cell_type": "markdown",
   "metadata": {},
   "source": [
    "Available from:  https://www.codewars.com/kata/51e056fe544cf36c410000fb/train/python"
   ]
  },
  {
   "cell_type": "markdown",
   "metadata": {},
   "source": [
    "<b>Description:</b><br>\n",
    "Write a function that, given a string of text (possibly with punctuation and line-breaks), returns an array of the top-3 most occurring words, in descending order of the number of occurrences.\n",
    "\n",
    "<b>Assumptions:</b><br>\n",
    "A word is a string of letters (A to Z) optionally containing one or more apostrophes (') in ASCII.\n",
    "Apostrophes can appear at the start, middle or end of a word ('abc, abc', 'abc', ab'c are all valid)\n",
    "Any other characters (e.g. #, \\, / , . ...) are not part of a word and should be treated as whitespace.\n",
    "Matches should be case-insensitive, and the words in the result should be lowercased.\n",
    "Ties may be broken arbitrarily.\n",
    "If a text contains fewer than three unique words, then either the top-2 or top-1 words should be returned, or an empty array if a text contains no words.\n",
    "\n",
    "<b>Examples:</b><br>\n",
    "top_3_words(\"In a village of La Mancha, the name of which I have no desire to call to\n",
    "mind, there lived not long since one of those gentlemen that keep a lance\n",
    "in the lance-rack, an old buckler, a lean hack, and a greyhound for\n",
    "coursing. An olla of rather more beef than mutton, a salad on most\n",
    "nights, scraps on Saturdays, lentils on Fridays, and a pigeon or so extra\n",
    "on Sundays, made away with three-quarters of his income.\")\n",
    "=> [\"a\", \"of\", \"on\"]\n",
    "\n",
    "top_3_words(\"e e e e DDD ddd DdD: ddd ddd aa aA Aa, bb cc cC e e e\")\n",
    "=> [\"e\", \"ddd\", \"aa\"]\n",
    "\n",
    "<b>Bonus points:</b><br>\n",
    "Avoid creating an array whose memory footprint is roughly as big as the input text.\n",
    "Avoid sorting the entire array of unique words."
   ]
  },
  {
   "cell_type": "markdown",
   "metadata": {},
   "source": [
    "<b>My solution:</b>\n"
   ]
  },
  {
   "cell_type": "markdown",
   "metadata": {},
   "source": [
    "top_3_words(\"In a village of La Mancha, the name of which I have no desire to call to\n",
    "mind, there lived not long since one of those gentlemen that keep a lance\n",
    "in the lance-rack, an old buckler, a lean hack, and a greyhound for\n",
    "coursing. An olla of rather more beef than mutton, a salad on most\n",
    "nights, scraps on Saturdays, lentils on Fridays, and a pigeon or so extra\n",
    "on Sundays, made away with three-quarters of his income.\")\n",
    "=> [\"a\", \"of\", \"on\"]"
   ]
  },
  {
   "cell_type": "code",
   "execution_count": 24,
   "metadata": {},
   "outputs": [],
   "source": [
    "import string\n",
    "import regex as re"
   ]
  },
  {
   "cell_type": "code",
   "execution_count": 25,
   "metadata": {},
   "outputs": [],
   "source": [
    "strng1=\"In a village of La Mancha, the name of which I have no desire to call to mind, there lived not long since one of those gentlemen that keep a lance in the lance-rack, an old buckler, a lean hack, and a greyhound for coursing. An olla of rather more beef than mutton, a salad on most nights, scraps on Saturdays, lentils on Fridays, and a pigeon or so extra on Sundays, made away with three-quarters of his income.\"\n",
    "strng2='e e e e DDD ddd DdD: ddd ddd aa aA Aa, bb cc cC e e e'\n",
    "strng3='a a a  b  c c  d d d d  e e e e e'"
   ]
  },
  {
   "cell_type": "code",
   "execution_count": 26,
   "metadata": {},
   "outputs": [],
   "source": [
    "strng= \"e e e e DDD ddd DdD: ddd ddd aa aA Aa, bb cc cC e e e\"\n",
    "#answer [\"e\", \"ddd\", \"aa\"]"
   ]
  },
  {
   "cell_type": "code",
   "execution_count": 27,
   "metadata": {},
   "outputs": [
    {
     "data": {
      "text/plain": [
       "['e',\n",
       " 'e',\n",
       " 'e',\n",
       " 'e',\n",
       " 'DDD',\n",
       " 'ddd',\n",
       " 'DdD:',\n",
       " 'ddd',\n",
       " 'ddd',\n",
       " 'aa',\n",
       " 'aA',\n",
       " 'Aa',\n",
       " 'bb',\n",
       " 'cc',\n",
       " 'cC',\n",
       " 'e',\n",
       " 'e',\n",
       " 'e']"
      ]
     },
     "execution_count": 27,
     "metadata": {},
     "output_type": "execute_result"
    }
   ],
   "source": [
    "words=[re.sub(r\"[^a-zA-Z']\",\"\",word) for word in strng.split()]\n",
    "words=[x.replace(\".\",\"\").replace(\",\",\"\") for x in strng.split()]\n",
    "words"
   ]
  },
  {
   "cell_type": "code",
   "execution_count": 28,
   "metadata": {},
   "outputs": [],
   "source": [
    "import regex as re\n",
    "split1=[]\n",
    "for word in words:\n",
    "    #x= re.split(\"[^a-zA-Z']\", word)\n",
    "    x=re.sub(\"[\\d'\\s]\",' ', word)\n",
    "    for i in x:\n",
    "        split1.append(i)\n",
    "\n",
    "split=[word for sublist in re.split(\"[^a-zA-Z ']\", word) for word in words]"
   ]
  },
  {
   "cell_type": "code",
   "execution_count": 29,
   "metadata": {},
   "outputs": [
    {
     "data": {
      "text/plain": [
       "['e',\n",
       " 'e',\n",
       " 'e',\n",
       " 'e',\n",
       " 'D',\n",
       " 'D',\n",
       " 'D',\n",
       " 'd',\n",
       " 'd',\n",
       " 'd',\n",
       " 'D',\n",
       " 'd',\n",
       " 'D',\n",
       " ':',\n",
       " 'd',\n",
       " 'd',\n",
       " 'd',\n",
       " 'd',\n",
       " 'd',\n",
       " 'd',\n",
       " 'a',\n",
       " 'a',\n",
       " 'a',\n",
       " 'A',\n",
       " 'A',\n",
       " 'a',\n",
       " 'b',\n",
       " 'b',\n",
       " 'c',\n",
       " 'c',\n",
       " 'c',\n",
       " 'C',\n",
       " 'e',\n",
       " 'e',\n",
       " 'e']"
      ]
     },
     "execution_count": 29,
     "metadata": {},
     "output_type": "execute_result"
    }
   ],
   "source": [
    "split1"
   ]
  },
  {
   "cell_type": "code",
   "execution_count": 30,
   "metadata": {},
   "outputs": [],
   "source": [
    "words=[re.sub(r\"[^a-zA-Z']\",\"\",word) for word in strng.split()]    "
   ]
  },
  {
   "cell_type": "code",
   "execution_count": 31,
   "metadata": {},
   "outputs": [],
   "source": [
    "counts=set([(word,words.count(word)) for word in words])"
   ]
  },
  {
   "cell_type": "code",
   "execution_count": 32,
   "metadata": {},
   "outputs": [],
   "source": [
    "top3=sorted(counts,key=lambda x:x[1],reverse=True)"
   ]
  },
  {
   "cell_type": "code",
   "execution_count": 38,
   "metadata": {},
   "outputs": [],
   "source": [
    "answers=[x[0] for x in top3]"
   ]
  },
  {
   "cell_type": "code",
   "execution_count": 39,
   "metadata": {},
   "outputs": [
    {
     "name": "stdout",
     "output_type": "stream",
     "text": [
      "Number of unique words: 9\n",
      "['e', 'ddd', 'cC']\n"
     ]
    }
   ],
   "source": [
    "print(\"Number of unique words: {}\".format(len(set(split1))))\n",
    "if len(set(split1))>=3:\n",
    "    print([x[0] for x in top3][:3])\n",
    "elif len(set(split1))==2:\n",
    "    print([x[0] for x in top3][:2])\n",
    "else:\n",
    "    print([x[0] for x in top3][:1])"
   ]
  },
  {
   "cell_type": "code",
   "execution_count": 42,
   "metadata": {},
   "outputs": [],
   "source": [
    "def top_3_words(strng):\n",
    "    if len(set(words))>=3:\n",
    "        return [x[0] for x in top3][:3]\n",
    "    elif len(set(words))==2:\n",
    "        return [x[0] for x in top3][:2]\n",
    "    else:\n",
    "        return [x[0] for x in top3][:1]"
   ]
  },
  {
   "cell_type": "code",
   "execution_count": 43,
   "metadata": {},
   "outputs": [],
   "source": [
    "def top_3_words(strng):\n",
    "    words=re.findall(r\"'?\\w+'?\\w+'?|'?\\w|\\w'?\",strng.lower())\n",
    "    top3=sorted((set([(word,words.count(word)) for word in words])),key=lambda x:x[1],reverse=True)    \n",
    "    return [x[0] for x in top3][:3] if len(set(words))>=3 else [x[0] for x in top3][:len(set(words))]"
   ]
  },
  {
   "cell_type": "code",
   "execution_count": 44,
   "metadata": {},
   "outputs": [
    {
     "data": {
      "text/plain": [
       "['a', 'of', 'on']"
      ]
     },
     "execution_count": 44,
     "metadata": {},
     "output_type": "execute_result"
    }
   ],
   "source": [
    "top_3_words(strng1)"
   ]
  }
 ],
 "metadata": {
  "kernelspec": {
   "display_name": "Python 3.9.12 ('base')",
   "language": "python",
   "name": "python3"
  },
  "language_info": {
   "codemirror_mode": {
    "name": "ipython",
    "version": 3
   },
   "file_extension": ".py",
   "mimetype": "text/x-python",
   "name": "python",
   "nbconvert_exporter": "python",
   "pygments_lexer": "ipython3",
   "version": "3.9.12"
  },
  "orig_nbformat": 4,
  "vscode": {
   "interpreter": {
    "hash": "50190fa22770449b423ef1e5f22e9e4ae491ba3d613017cab998804fa19ca93f"
   }
  }
 },
 "nbformat": 4,
 "nbformat_minor": 2
}
